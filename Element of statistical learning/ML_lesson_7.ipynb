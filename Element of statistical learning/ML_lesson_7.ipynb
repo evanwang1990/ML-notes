{
 "cells": [
  {
   "cell_type": "markdown",
   "metadata": {},
   "source": [
    "##mask effect"
   ]
  },
  {
   "cell_type": "code",
   "execution_count": 4,
   "metadata": {
    "collapsed": false
   },
   "outputs": [],
   "source": [
    "import numpy as np\n",
    "import numpy.linalg as la\n",
    "import matplotlib.pyplot as plt"
   ]
  },
  {
   "cell_type": "code",
   "execution_count": 2,
   "metadata": {
    "collapsed": true
   },
   "outputs": [],
   "source": [
    "n=100\n",
    "c=4\n",
    "x11=np.random.randn(n, 1) - c\n",
    "x21 = np.random.randn(n, 1) - c\n",
    "x12=np.random.randn(n, 1)\n",
    "x22 = np.random.randn(n, 1)\n",
    "x13=np.random.randn(n, 1) + c\n",
    "x23 = np.random.randn(n, 1) + c"
   ]
  },
  {
   "cell_type": "code",
   "execution_count": 10,
   "metadata": {
    "collapsed": false
   },
   "outputs": [],
   "source": [
    "X1 = np.vstack((x11, x12, x13))\n",
    "X2 = np.vstack((x21, x22, x23))"
   ]
  },
  {
   "cell_type": "code",
   "execution_count": 40,
   "metadata": {
    "collapsed": false
   },
   "outputs": [
    {
     "data": {
      "text/plain": [
       "[<matplotlib.lines.Line2D at 0x1110b30f0>]"
      ]
     },
     "execution_count": 40,
     "metadata": {},
     "output_type": "execute_result"
    },
    {
     "data": {
      "image/png": "[encoded data removed]",
      "text/plain": [
       "<matplotlib.figure.Figure at 0x11106eb00>"
      ]
     },
     "metadata": {},
     "output_type": "display_data"
    }
   ],
   "source": [
    "%matplotlib inline\n",
    "plt.plot(X1, X2, '.')"
   ]
  },
  {
   "cell_type": "code",
   "execution_count": 23,
   "metadata": {
    "collapsed": false
   },
   "outputs": [],
   "source": [
    "x = np.hstack((X1, X2))\n",
    "y = np.zeros((3*n, 3))\n",
    "y[0:100, 0] = 1\n",
    "y[100:200, 1] = 1\n",
    "y[200:300, 2] = 1"
   ]
  },
  {
   "cell_type": "code",
   "execution_count": 28,
   "metadata": {
    "collapsed": false
   },
   "outputs": [],
   "source": [
    "yhat = x.dot(la.inv(x.T.dot(x))).dot(x.T).dot(y)"
   ]
  },
  {
   "cell_type": "code",
   "execution_count": 31,
   "metadata": {
    "collapsed": false
   },
   "outputs": [],
   "source": [
    "yhat1 = np.argmax(yhat, 1)"
   ]
  },
  {
   "cell_type": "markdown",
   "metadata": {},
   "source": [
    "##Linear Discriminent analysis"
   ]
  },
  {
   "cell_type": "code",
   "execution_count": 56,
   "metadata": {
    "collapsed": true
   },
   "outputs": [],
   "source": [
    "mu1 = np.mean(x[0:100, :], axis = 0)\n",
    "mu2 = np.mean(x[100:200, :], axis = 0)\n",
    "mu3 = np.mean(x[200:300, :], axis = 0)"
   ]
  },
  {
   "cell_type": "code",
   "execution_count": 63,
   "metadata": {
    "collapsed": false
   },
   "outputs": [],
   "source": [
    "Sigma = (np.cov(x[0:100, :].T) + np.cov(x[100:200, :].T) + np.cov(x[200:, :].T))*99 / 297"
   ]
  },
  {
   "cell_type": "code",
   "execution_count": 64,
   "metadata": {
    "collapsed": false
   },
   "outputs": [],
   "source": []
  },
  {
   "cell_type": "code",
   "execution_count": 74,
   "metadata": {
    "collapsed": false
   },
   "outputs": [
    {
     "data": {
      "text/plain": [
       "[<matplotlib.lines.Line2D at 0x118e33128>]"
      ]
     },
     "execution_count": 74,
     "metadata": {},
     "output_type": "execute_result"
    },
    {
     "data": {
      "image/png": "[encoded data removed]",
      "text/plain": [
       "<matplotlib.figure.Figure at 0x118e33208>"
      ]
     },
     "metadata": {},
     "output_type": "display_data"
    }
   ],
   "source": [
    "Delta = 0.5*(mu1.dot(la.inv(Sigma)).dot(mu1)) - 0.5*(mu2.dot(la.inv(Sigma)).dot(mu2))\n",
    "t = la.inv(Sigma).dot(mu1 - mu2)\n",
    "u = np.linspace(-8, 4, 100)\n",
    "fu = (Delta - u*t[0])/t[1]\n",
    "Delta1 = 0.5*(mu2.dot(la.inv(Sigma)).dot(mu2)) - 0.5*(mu3.dot(la.inv(Sigma)).dot(mu3))\n",
    "t= la.inv(Sigma).dot(mu2 - mu3)\n",
    "fu1 = (Delta1 - u*t[0])/t[1]\n",
    "plt.plot(X1, X2, 'o')\n",
    "plt.hold(True)\n",
    "plt.plot(u, fu, '-')\n",
    "plt.plot(u, fu1, '-')"
   ]
  },
  {
   "cell_type": "markdown",
   "metadata": {},
   "source": [
    "##Verify B+W=T"
   ]
  },
  {
   "cell_type": "code",
   "execution_count": 76,
   "metadata": {
    "collapsed": true
   },
   "outputs": [],
   "source": [
    "T=np.cov(x.T)"
   ]
  },
  {
   "cell_type": "code",
   "execution_count": 79,
   "metadata": {
    "collapsed": false
   },
   "outputs": [],
   "source": [
    "W=Sigma"
   ]
  },
  {
   "cell_type": "code",
   "execution_count": null,
   "metadata": {
    "collapsed": true
   },
   "outputs": [],
   "source": []
  }
 ],
 "metadata": {
  "kernelspec": {
   "display_name": "Python 3",
   "language": "python",
   "name": "python3"
  },
  "language_info": {
   "codemirror_mode": {
    "name": "ipython",
    "version": 3
   },
   "file_extension": ".py",
   "mimetype": "text/x-python",
   "name": "python",
   "nbconvert_exporter": "python",
   "pygments_lexer": "ipython3",
   "version": "3.4.3"
  }
 },
 "nbformat": 4,
 "nbformat_minor": 0
}
